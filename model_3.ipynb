{
 "cells": [
  {
   "cell_type": "markdown",
   "id": "7eb2be6a",
   "metadata": {},
   "source": [
    "# Models"
   ]
  },
  {
   "cell_type": "markdown",
   "id": "34b255d3",
   "metadata": {},
   "source": [
    "## Model 3"
   ]
  },
  {
   "cell_type": "markdown",
   "id": "926c48d4",
   "metadata": {},
   "source": [
    "**CONSTANTS**\n",
    "<br>\n",
    "$I$: Number of community areas = 77 <br>\n",
    "$J$: Number of police districts or police stations = 23 <br>\n",
    "$K$: Number of police areas = 5 <br><br>\n",
    "\n",
    "**DECISION VARIABLES**\n",
    "<br>\n",
    "$X_{i, j, k}$: 1 if police area _k_ coordinates police station _j_, which is patrolled by community area _i_, 0 otherwise; $X_{i, j, k} \\in \\{0,1\\}$; _i_ = 1..._I_; _j_ = 1..._J_; _k_ = 1..._K_ <br>\n",
    "$Y_{j, j', k}$: 1 if police station _j_ and _j'_ are coordinated by police area _k_, 0 otherwise; $Y_{j, j', k} \\in \\{0,1\\}$; _j_ = 1..._J_; _j'_ = 1..._J_; _k_ = 1..._K_ <br>\n",
    "\n",
    "**Derived variables**\n",
    "<br>\n",
    "$w_j$: Workload of police station _j_ $\\equiv w_j = \\sum_{i=1}^{I} \\sum_{k=1}^{K} X_{i, j, k} * C_i$; $w_{j} \\in \\mathbb{R}$; $w_j \\geq 0$; _j_ = 1..._J_ <br>\n",
    "$v_k$: Workload of police area _k_ $\\equiv v_k = \\sum_{i=1}^{I} \\sum_{j=1}^{J} X_{i, j, k} * C_i$; $v_{k} \\in \\mathbb{R}$; $v_k \\geq 0$; _k_ = 1..._K_ <br><br>\n",
    "\n",
    "\n",
    "**PARAMETERS**\n",
    "<br>\n",
    "$C_i$: Crime index in community area _i_; $C_i \\in \\mathbb{R}$; _i_=1..._I_ <br>\n",
    "$D_{i,j}$: Distance from police station _j_ to community area centroid _i_;  $D_{i, j} \\in \\mathbb{R}$; _i_ = 1..._I_; _j_ = 1..._J_ <br>\n",
    "$d_{j, j'}$: Distance from police station _j_ to police station _j'_; $d_{j, j'} \\in \\mathbb{R}$; _j_ = 1.._J_; _j'_ = 1.._J_ <br>\n",
    "$λ$: Parameter that weights the importance of distances within the cluster; $λ \\in \\mathbb{R}$; $λ \\geq 0$ <br>\n",
    "$T$: Maximum travel time for a police station to reach the centroid of a community area; $T \\in \\mathbb{R}$; $T \\geq 0$ <br>\n",
    "$t$: Maximum travel time between two police stations within the same police area; $t \\in \\mathbb{R}$; $t \\geq 0$ <br><br>\n",
    "\n",
    "\n",
    "**OBJECTIVE FUNCTION**: Minimizing the distance from police stations to community areas and between police stations within the same police area\n",
    "<br>\n",
    "min Z =  $\\sum_{i=1}^{I} \\sum_{j=1}^{J} \\sum_{k=1}^{K}X_{i,j,k}*D_{i,j}$ + λ $\\sum_{j=1}^{J} \\sum_{j'=1}^{J} \\sum_{k=1}^{K} Y_{j, j', k}* d_{j, j'}$ <br><br>\n",
    "\n",
    "\n",
    "**S.T.**:\n",
    "<br>\n",
    "\n",
    "**_Cardinality constraints_**\n",
    "<br>\n",
    "[Community areas] $\\sum_{j=1}^{J} \\sum_{k=1}^{K} X_{i, j, k} = 1$; _i_ = 1..._I_ ‎ ‎ # Each community area is patrolled by one police station <br> \n",
    "[Police stations] $\\sum_{i=1}^{I} \\sum_{k=1}^{K} X_{i, j, k} \\geq 1$; _j_ = 1..._J_ ‎ ‎ # Each police station patrols at least one community area <br>\n",
    "[Police areas] $\\sum_{i=1}^{I} \\sum_{j=1}^{J} X_{i, j, k} \\geq 1$; _k_ = 1..._K_ ‎ ‎ # Each police area coordinates at least one police station <br>\n",
    "\n",
    "**_Max number of X in charge of constraints_** \n",
    "<br>\n",
    "[Max CA at j]  $\\sum_{i=1}^{I}\\sum_{k=1}^{K} X_{i, j, k} \\leq 4$; _j_ = 1..._J_ ‎ ‎ # Each police station does NOT patrol more than 4 community areas <br>\n",
    "[Max PS at k]  $\\sum_{i=1}^{I}\\sum_{j=1}^{J} X_{i, j, k} \\leq 5$; _k_ = 1..._K_ ‎ ‎ # Each police area does NOT coordinate more than 5 police stations <br>\n",
    "\n",
    "**_Distance constraints_**\n",
    "<br>\n",
    "[CA i, PS j] $C_{i,j} * D_{i,j} \\leq T$; _i_ = 1..._I_; _j_ = 1..._J_ ‎ ‎ # Each police station only patrols a community area if it is not too far, at _T_ seconds distance maximum <br> \n",
    "[PS j, PA k] $Y_{j,j', k} * d_{j,j'} \\leq t $; _j_ = 1..._J_; _j'_ = 1..._J_, _k_ = 1.._K_ ‎ ‎ # Police area coordinates police stations that are not too far between them <br>\n",
    "\n",
    "**_Workload division constraints_**\n",
    "<br>\n",
    "[Job division at j] $ -0.015 \\leq w_j - \\frac{\\sum_{j=1}^{J}w_j}{J} \\leq 0.015$; _j_ = 1..._J_ ‎ ‎ # Balanced job division at police stations <br>\n",
    "[Job division at k] $ -0.015 \\leq v_k - \\frac{\\sum_{k=1}^{K}v_k}{K} \\leq 0.015$; _k_ = 1..._K_ ‎ ‎ # Balanced job division at police areas <br>\n",
    "[Job j] $ \\sum_{i \\in {5, 41, 47, 49, 65, 75}} \\sum_{k=1}^{K} X_{i,j,k} \\leq 1$; _j_ = 1..._J_ ‎ ‎ # Each police station can patrol only one community area with a high crime index <br>\n",
    "\n",
    "**_Linking constraints:_**\n",
    "<br>\n",
    "[Linking] $\\sum_{i=1}^{I} (X_{i, j, k} + X_{i, j', k}) - Y_{j, j', k} \\leq 1 $; _j_ = 1..._J_; _j'_ = 1..._J_; _k_ = 1..._K_"
   ]
  },
  {
   "cell_type": "markdown",
   "id": "15844b1a",
   "metadata": {},
   "source": [
    "## Code"
   ]
  },
  {
   "cell_type": "code",
   "execution_count": 2,
   "id": "2949104a-a5d9-414e-959a-5b80daacf69d",
   "metadata": {},
   "outputs": [],
   "source": [
    "from ortools.linear_solver import pywraplp"
   ]
  },
  {
   "cell_type": "markdown",
   "id": "124569a0",
   "metadata": {},
   "source": [
    "### Solver"
   ]
  },
  {
   "cell_type": "code",
   "execution_count": 3,
   "id": "3db6635d",
   "metadata": {},
   "outputs": [
    {
     "data": {
      "text/plain": [
       "'\\n* Si todas las variables son binarias --> BOP\\n* Con las que NO hacer experimentos es con GLOP ni CLP al ser solver de programación lineal que asumen que todas son continuas\\n* Podemos probar solver comerciales que suelen ir más rápido\\n\\n'"
      ]
     },
     "execution_count": 3,
     "metadata": {},
     "output_type": "execute_result"
    }
   ],
   "source": [
    "solver = pywraplp.Solver.CreateSolver(\"BOP\") ## SCIP not sure\n",
    "\n",
    "\"\"\"\n",
    "* Si todas las variables son binarias --> BOP\n",
    "* Con las que NO hacer experimentos es con GLOP ni CLP al ser solver de programación lineal que asumen que todas son continuas\n",
    "* Podemos probar solver comerciales que suelen ir más rápido\n",
    "\n",
    "\"\"\""
   ]
  },
  {
   "cell_type": "markdown",
   "id": "73506049",
   "metadata": {},
   "source": [
    "### Constants\n",
    "$I$: Number of community areas = 77 <br>\n",
    "$J$: Number of police districts or police stations = 23 <br>\n",
    "$K$: Number of police areas = 5"
   ]
  },
  {
   "cell_type": "code",
   "execution_count": 4,
   "id": "4cf2842a",
   "metadata": {},
   "outputs": [],
   "source": [
    "I, J, K = 77, 23, 5"
   ]
  },
  {
   "cell_type": "markdown",
   "id": "948bfd10",
   "metadata": {},
   "source": [
    "### Decision variables\n",
    "$X_{i, j, k}$: 1 if police area _k_ coordinates police station _j_, which patrols community area _i_, 0 otherwise; $X_{i, j, k} \\in \\{0,1\\}$; _i_ = 1..._I_; _j_ = 1..._J_; _k_ = 1..._K_ <br>\n",
    "$Y_{j, j', k}$: 1 if police station _j_ and _j'_ are coordinated by police area _k_, 0 otherwise; $Y_{j, j', k} \\in \\{0,1\\}$; _j_ = 1..._J_; _j'_ = 1..._J_; _k_ = 1..._K_ \n",
    "#### Derived variables\n",
    "$w_j$: Workload of police station _j_ $\\equiv w_j = \\sum_{i=1}^{I} \\sum_{k=1}^{K} X_{i, j, k} * C_i$; $w_{j} \\in \\mathbb{R}$; $w_j \\geq 0$; _j_ = 1..._J_ <br>\n",
    "$v_k$: Workload of police area _k_ $\\equiv v_k = \\sum_{i=1}^{I} \\sum_{j=1}^{J} X_{i, j, k} * C_i$; $v_{k} \\in \\mathbb{R}$; $v_k \\geq 0$; _k_ = 1..._K_"
   ]
  },
  {
   "cell_type": "code",
   "execution_count": 5,
   "id": "12e85ef3",
   "metadata": {},
   "outputs": [],
   "source": [
    "# Decision variables\n",
    "\n",
    "X = {}\n",
    "for i in range(I):\n",
    "    for j in range(J):\n",
    "        for k in range(K):\n",
    "            x = solver.BoolVar(f'Does Police area {k} coordinate Police station {j}, which is patrolled by Community area {i}?')\n",
    "            X[(i, j, k)] = x\n",
    "\n",
    "Y = {}\n",
    "for j in range(J):\n",
    "    for j_prime in range(J):\n",
    "        for k in range(K):\n",
    "            y = solver.BoolVar(f'Does police area {k} coordinate police station {j} and {j_prime}?')\n",
    "            Y[(j, j_prime, k)] = y\n",
    "            \n",
    "######### AITANA: Esto en vd creo que NO se pone, en plan lo puse en el modelo para luego no tener tanta fórmula en las constraints pero que no se debería poner\n",
    "            \n",
    "# w = {}\n",
    "# for j in range(J):\n",
    "#     workload_ps = 0\n",
    "#     for i in range(I):\n",
    "#         for k in range(K):\n",
    "#             C = community_areas['crime_index'][i] \n",
    "#             workload_ps += X[(i, j, k)] * C\n",
    "#     w[j] = workload_ps\n",
    "    \n",
    "# v = {}\n",
    "# for k in range(K):\n",
    "#     workload_pa = 0\n",
    "#     for i in range(I):\n",
    "#         for j in range(J):\n",
    "#             C = community_areas['crime_index'][i] \n",
    "#             workload_pa += X[(i, j, k)] * C\n",
    "#     v[k] = workload_pa"
   ]
  },
  {
   "cell_type": "markdown",
   "id": "ceed5d3f",
   "metadata": {},
   "source": [
    "### Objective function\n",
    "Minimizing the distance from police stations to community areas and between police stations within the same police area\n",
    "<br>\n",
    "min Z =  $\\sum_{i=1}^{I} \\sum_{j=1}^{J} \\sum_{k=1}^{K}X_{i,j,k}*D_{i,j}$ + λ $\\sum_{j=1}^{J} \\sum_{j'=1}^{J} \\sum_{k=1}^{K} Y_{j, j', k}* d_{j, j'}$ <br>"
   ]
  },
  {
   "cell_type": "code",
   "execution_count": null,
   "id": "ca4cf5d4",
   "metadata": {},
   "outputs": [],
   "source": [
    "# Objective function\n",
    "\n",
    "objective = solver.Objective()\n",
    "objective.SetMinimization()\n",
    "\n",
    "for i in range(I):\n",
    "    for j in range(J):\n",
    "        for k in range(K):\n",
    "            x = X[(i, j, k)]\n",
    "            D = police_stations['D_distances'][i][j]\n",
    "            objective.SetCoefficient(x, D)\n",
    "\n",
    "######### AITANA: lambda es un valor completamente arbitario, hay que ir probando\n",
    "\n",
    "lbd = 0.5  ####\n",
    "\n",
    "for j in range(J):\n",
    "    for j_prime in range(J):\n",
    "        for k in range(K):\n",
    "            y = Y[(j, j_prime, k)]\n",
    "            d = police_stations['d_distances'][j][j_prime]\n",
    "            objective.SetCoefficient(y, lbd*d)  "
   ]
  },
  {
   "cell_type": "markdown",
   "id": "a7231dc0",
   "metadata": {},
   "source": [
    "### Constraints\n",
    "**_Cardinality constraints_**\n",
    "<br>\n",
    "[Community areas] $\\sum_{j=1}^{J} \\sum_{k=1}^{K} X_{i, j, k} = 1$; _i_ = 1..._I_ ‎ ‎ # Each community area is patrolled by one police station <br> \n",
    "[Police stations] $\\sum_{i=1}^{I} \\sum_{k=1}^{K} X_{i, j, k} \\geq 1$; _j_ = 1..._J_ ‎ ‎ # Each police station patrols at least one community area <br>\n",
    "[Police areas] $\\sum_{i=1}^{I} \\sum_{j=1}^{J} X_{i, j, k} \\geq 1$; _k_ = 1..._K_ ‎ ‎ # Each police area coordinates at least one police station <br>"
   ]
  },
  {
   "cell_type": "code",
   "execution_count": null,
   "id": "d0343f7f",
   "metadata": {},
   "outputs": [],
   "source": [
    "ca_constraints = []\n",
    "for i in range(I):\n",
    "    constraint = solver.Constraint(1, 1)\n",
    "    for j in range(J):\n",
    "        for k in range(K):\n",
    "            x = X[(i, j, k)]\n",
    "            constraint.SetCoefficient(x, 1)\n",
    "    ca_constraints.append(constraint)\n",
    "    \n",
    "ps_constraints = []\n",
    "for j in range(J):\n",
    "    constraint = solver.Constraint(1, solver.infinity())\n",
    "    for i in range(I):\n",
    "        for k in range(K):\n",
    "            x = X[(i, j, k)]\n",
    "            constraint.SetCoefficient(x, 1)\n",
    "    ps_constraints.append(constraint)\n",
    "    \n",
    "pa_constraints = []\n",
    "for k in range(K):\n",
    "    constraint = solver.Constraint(1, solver.infinity())\n",
    "    for i in range(I):\n",
    "        for j in range(J):\n",
    "            x = X[(i, j, k)]\n",
    "            constraint.SetCoefficient(x, 1)\n",
    "    pa_constraints.append(constraint)"
   ]
  },
  {
   "cell_type": "markdown",
   "id": "c4bf33a5",
   "metadata": {},
   "source": [
    "**_Max number of X in charge of constraints_** \n",
    "<br>\n",
    "[Max CA at j]  $\\sum_{i=1}^{I} \\sum_{k=1}^{K} X_{i, j, k} \\leq 4$; _j_ = 1..._J_ ‎ ‎ # Each police station does NOT patrol more than 4 community areas <br>\n",
    "[Max PS at k]  $\\sum_{i=1}^{I} \\sum_{j=1}^{J} X_{i, j, k} \\leq 5$; _k_ = 1..._K_ ‎ ‎ # Each police area does NOT coordinate more than 5 police stations <br>"
   ]
  },
  {
   "cell_type": "code",
   "execution_count": null,
   "id": "ba76e609",
   "metadata": {},
   "outputs": [],
   "source": [
    "max1_constraints = []\n",
    "for j in range(J):\n",
    "    constraint = solver.Constraint(-solver.infinity(), 4)\n",
    "    for i in range(I):\n",
    "        for k in range(K):\n",
    "            x = X[(i, j, k)]\n",
    "            constraint.SetCoefficient(x, 1)\n",
    "    max1_constraints.append(constraint)\n",
    "    \n",
    "max2_constraints = []\n",
    "for j in range(J):\n",
    "    constraint = solver.Constraint(-solver.infinity(), 5)\n",
    "    for i in range(I):\n",
    "        for k in range(K):\n",
    "            x = X[(i, j, k)]\n",
    "            constraint.SetCoefficient(x, 1)\n",
    "    max2_constraints.append(constraint)"
   ]
  },
  {
   "cell_type": "markdown",
   "id": "e352069b",
   "metadata": {},
   "source": [
    "**_Distance constraints_**\n",
    "<br>\n",
    "[CA i, PS j] $\\sum_{k=1}^{K} X_{i, j, k} * D_{i,j} \\leq T$; _i_ = 1..._I_; _j_ = 1..._J_ ‎ ‎ # Each police station only patrols a community area if it is not too far, at _T_ seconds distance maximum <br> \n",
    "[PS j, PA k] $Y_{j,j', k} * d_{j,j'} \\leq t $; _j_ = 1..._J_; _j'_ = 1..._J_, _k_ = 1.._K_ ‎ ‎ # Police area coordinates police stations that are not too far between them <br>"
   ]
  },
  {
   "cell_type": "code",
   "execution_count": null,
   "id": "f88c21e7",
   "metadata": {},
   "outputs": [],
   "source": [
    "distance1_constraints = []\n",
    "for i in range(I):\n",
    "    for j in range(J):\n",
    "        constraint = solver.Constraint(T, solver.infinity())\n",
    "        for k in range(K):\n",
    "            x = X[(i, j, k)]\n",
    "            D = police_stations['D_distances'][i][j]\n",
    "            constraint.SetCoefficient(x, D)\n",
    "        distance1_constraints.append(constraint)\n",
    "        \n",
    "distance2_constraints = []\n",
    "for j in range(J):\n",
    "    for j_prime in range(J):\n",
    "        for k in range(K):\n",
    "            constraint = solver.Constraint(t, solver.infinity())\n",
    "            y = Y[(j, j_prime, k)]\n",
    "            d = police_stations['d_distances'][j][j_prime]\n",
    "            constraint.SetCoefficient(y, d)\n",
    "            distance2_constraints.append(constraint)"
   ]
  },
  {
   "cell_type": "markdown",
   "id": "4156b75c",
   "metadata": {},
   "source": [
    "**_Workload division constraints_**\n",
    "<br>\n",
    "[Job division at j] $ -0.015 \\leq w_j - \\frac{\\sum_{j=1}^{J}w_j}{J} \\leq 0.015$; _j_ = 1..._J_ ‎ ‎ # Balanced job division at police stations <br>\n",
    "[Job division at k] $ -0.015 \\leq v_k - \\frac{\\sum_{k=1}^{K}v_k}{K} \\leq 0.015$; _k_ = 1..._K_ ‎ ‎ # Balanced job division at police areas <br>\n",
    "[Job j] $ \\sum_{i \\in {5, 41, 47, 49, 65, 75}} \\sum_{k=1}^{K} X_{i,j,k} \\leq 1$; _j_ = 1..._J_ ‎ ‎ # Each police station can patrol only one community area with a high crime index <br>"
   ]
  },
  {
   "cell_type": "code",
   "execution_count": null,
   "id": "45741d31",
   "metadata": {},
   "outputs": [],
   "source": [
    "workload1_constraints = []\n",
    "for j in range(J):\n",
    "    constraint = solver.Constraint(-0.015, 0.015)\n",
    "    constraint.SetCoefficient(w[j], 1)\n",
    "    ## por completar\n",
    "    \n",
    "\n",
    "workload2_constraints = []\n",
    "for k in range(K):\n",
    "    constraint = solver.Constraint(-0.015, 0.015)  # aquí quizás cambiaría el rango, porque se trata de crime index de ps\n",
    "    ## por completar\n",
    "\n",
    "workload3_constraints = []\n",
    "for j in range(J):\n",
    "    constraint = solver.Constraint(-solver.infinity(), 1)\n",
    "    for i in range([5, 41, 47, 49, 65, 75]):\n",
    "        for k in range(K):\n",
    "            x = X[(i, j, k)]\n",
    "            constraint.SetCoefficient(x, 1)\n",
    "    workload3_constraints.append(constraint)"
   ]
  },
  {
   "cell_type": "code",
   "execution_count": null,
   "id": "4982f533-641e-49fa-b987-e390090c0950",
   "metadata": {},
   "outputs": [],
   "source": [
    "######### AITANA: propuesta 0\n",
    "\n",
    "workload1_constraints = []\n",
    "for j in range(J):\n",
    "    # Restringir w[j] - 1/23 dentro del rango [-0.015, 0.015]\n",
    "    constraint = solver.Constraint(-0.015, 0.015)\n",
    "    constraint.SetCoefficient(w[j], 1)\n",
    "    constraint.SetOffset(-1 / 23)\n",
    "    workload1_constraints.append(contraint)\n",
    "    \n",
    "workload2_constraints = []\n",
    "for k in range(K):\n",
    "    # Restringir v[k] - 1/5 dentro del rango [-0.015, 0.015]\n",
    "    constraint = solver.Constraint(-0.015, 0.015)\n",
    "    constraint.SetCoefficient(v[k], 1)\n",
    "    constraint.SetOffset(-1 / 5)\n",
    "    workload2_constraints.append(contraint)\n",
    "\n",
    "\n"
   ]
  },
  {
   "cell_type": "code",
   "execution_count": null,
   "id": "95b32ab5-f1cd-42a9-8970-a7dcc5b3cf4b",
   "metadata": {},
   "outputs": [],
   "source": [
    "######### AITANA: propuesta 1\n",
    "\n",
    "workload1_constraints = []\n",
    "for j in range(J):\n",
    "    # Definir w_j como suma ponderada de X\n",
    "    workload_j = solver.Sum(\n",
    "        solver.Sum(X[(i, j, k)] * police_stations['crime_index'][i] for i in range(I))\n",
    "        for k in range(K))\n",
    "    \n",
    "    # balance de carga w_j\n",
    "    constraint = solver.Constraint(-0.015, 0.015)\n",
    "    constraint.SetCoefficient(workload_j, 1)  # Coeficiente para w_j\n",
    "    constraint.SetCoefficient(1 / 23, -1)     # Restar el promedio 1/23\n",
    "    workload1_constraints.append(constraint)\n",
    "\n",
    "workload2_constraints = []\n",
    "for k in range(K):\n",
    "    # Definir v_k como suma ponderada de X\n",
    "    workload_k = solver.Sum(\n",
    "        solver.Sum(X[(i, j, k)] * police_stations['crime_index'][i] for i in range(I))\n",
    "        for j in range(J))\n",
    "    \n",
    "    # balance de carga v_k\n",
    "    constraint = solver.Constraint(-0.015, 0.015)\n",
    "    constraint.SetCoefficient(workload_k, 1)  # Coeficiente para v_k\n",
    "    constraint.SetCoefficient(1 / 5, -1)      # Restar el promedio 1/5\n",
    "    workload2_constraints.append(constraint)\n",
    "\n"
   ]
  },
  {
   "cell_type": "code",
   "execution_count": null,
   "id": "57df512d-d8de-4a36-9a43-6a8e450d23ff",
   "metadata": {},
   "outputs": [],
   "source": [
    "######### AITANA: propuesta 2\n",
    "\n",
    "\n",
    "for j in range(J):\n",
    "    # Calcular w_j como suma ponderada de las áreas que patrulla la estación j\n",
    "    workload_j = solver.Sum(\n",
    "        solver.Sum(X[(i, j, k)] * police_stations['crime_index'][i] for i in range(I))\n",
    "        for k in range(K)\n",
    "    )\n",
    "    \n",
    "    # Restringir w_j - 1/23 dentro del rango [-0.015, 0.015]\n",
    "    constraint = solver.Constraint(-0.015, 0.015)\n",
    "    constraint.SetCoefficient(workload_j, 1)\n",
    "    constraint.SetOffset(-1 / 23)\n",
    "\n",
    "for k in range(K):\n",
    "    # Calcular v_k como suma ponderada de las áreas coordinadas por el área policial k\n",
    "    workload_k = solver.Sum(\n",
    "        solver.Sum(X[(i, j, k)] * police_stations['crime_index'][i] for i in range(I))\n",
    "        for j in range(J)\n",
    "    )\n",
    "    \n",
    "    # Restringir v_k - 1/5 dentro del rango [-0.015, 0.015]\n",
    "    constraint = solver.Constraint(-0.015, 0.015)\n",
    "    constraint.SetCoefficient(workload_k, 1)\n",
    "    constraint.SetOffset(-1 / 5)\n",
    "\n"
   ]
  },
  {
   "cell_type": "markdown",
   "id": "0d33feac",
   "metadata": {},
   "source": [
    "**_Linking constraints:_**\n",
    "<br>\n",
    "[Linking] $\\sum_{i=1}^{I} (X_{i, j, k} + X_{i, j', k}) - Y_{j, j', k} \\leq 1 $; _j_ = 1..._J_; _j'_ = 1..._J_; _k_ = 1..._K_"
   ]
  },
  {
   "cell_type": "code",
   "execution_count": null,
   "id": "cc7f2587",
   "metadata": {},
   "outputs": [],
   "source": [
    "linking_constraints = []\n",
    "for j in range(J):\n",
    "    for j_prime in range(J):\n",
    "        for k in range(K):\n",
    "            constraint = solver.Constraint(-solver.infinity(), 1)\n",
    "            y = Y[(j, j_prime, k)]\n",
    "            constraint.SetCoefficient(y, -1)\n",
    "            for i in range(I):\n",
    "                x = X[(i, j, k)]\n",
    "                x_prime = X[(i, j, k)]\n",
    "                constraint.SetCoefficient(x, 1)\n",
    "                constraint.SetCoefficient(x_prime, 1)\n",
    "linking_constraints.append(constraint)"
   ]
  },
  {
   "cell_type": "markdown",
   "id": "bef1074d-81f3-4158-9fac-669165e6ac7c",
   "metadata": {},
   "source": [
    "### Results"
   ]
  },
  {
   "cell_type": "code",
   "execution_count": null,
   "id": "187ab205-c414-47f2-8a7c-a78bf057f497",
   "metadata": {},
   "outputs": [],
   "source": [
    "result = solver.Solve()\n",
    "if result == solver.ABNORMAL:\n",
    "    print(\"Execution finished by an error\")\n",
    "elif result == solver.FEASIBLE:\n",
    "    print(\"In the specified time limit the solver has found a feasible solution\")\n",
    "    for i in range(I):\n",
    "        for j in range(J):\n",
    "            for k in range(K):\n",
    "                x = X[(i, j, k)]\n",
    "        if x.SolutionValue()>0:\n",
    "            print(x, x.solution_value())\n",
    "\n",
    "    print(\"The value for the objective function is\", objective.Value())\n",
    "elif result == solver.INFEASIBLE:\n",
    "    print(\"There is no feasible solution for the problem\")\n",
    "elif result == solver.NOT_SOLVED:\n",
    "    print(\"In the specified time limit the solver has not found any feasible solution\")\n",
    "elif result == solver.OPTIMAL:\n",
    "    print(\"In the specified time limit the solver has found a feasible solution\")\n",
    "    for i in range(I):\n",
    "        for j in range(J):\n",
    "            for k in range(K):\n",
    "                x = X[(i, j, k)]\n",
    "        if x.SolutionValue()>0:\n",
    "            print(x, x.solution_value())\n",
    "    print(\"The optimal value for the objective function is\", objective.Value())\n",
    "elif result == solver.UNBOUNDED:\n",
    "    print(\"The solution is unbounded\")\n",
    "else:\n",
    "    print(\"Unknown error code\")"
   ]
  }
 ],
 "metadata": {
  "kernelspec": {
   "display_name": "Python 3 (ipykernel)",
   "language": "python",
   "name": "python3"
  },
  "language_info": {
   "codemirror_mode": {
    "name": "ipython",
    "version": 3
   },
   "file_extension": ".py",
   "mimetype": "text/x-python",
   "name": "python",
   "nbconvert_exporter": "python",
   "pygments_lexer": "ipython3",
   "version": "3.12.5"
  }
 },
 "nbformat": 4,
 "nbformat_minor": 5
}
