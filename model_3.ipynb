{
 "cells": [
  {
   "cell_type": "markdown",
   "id": "7eb2be6a",
   "metadata": {},
   "source": [
    "# Models"
   ]
  },
  {
   "cell_type": "markdown",
   "id": "1f7a1f7c-96eb-4a32-836f-7f95e7f26a20",
   "metadata": {},
   "source": [
    "## Read data"
   ]
  },
  {
   "cell_type": "code",
   "execution_count": 1,
   "id": "c00af562-e79d-4fec-9bb8-2166ccb34125",
   "metadata": {},
   "outputs": [],
   "source": [
    "import pandas as pd\n",
    "\n",
    "police_stations = pd.read_csv(\"./new_data/police_stations.csv\") # habría que usar eval() con las listas\n",
    "community_areas = pd.read_csv(\"./new_data/community_areas.csv\")"
   ]
  },
  {
   "cell_type": "code",
   "execution_count": 15,
   "id": "7dab4a56-15e0-45b4-8086-52db644bb34b",
   "metadata": {},
   "outputs": [],
   "source": [
    "police_stations = pd.read_json(\"./new_data/police_stations.json\")\n",
    "community_areas = pd.read_json(\"./new_data/community_areas.json\")"
   ]
  },
  {
   "cell_type": "code",
   "execution_count": 16,
   "id": "7c010394-bbe3-407a-b45d-026581dde093",
   "metadata": {},
   "outputs": [
    {
     "data": {
      "text/html": [
       "<div>\n",
       "<style scoped>\n",
       "    .dataframe tbody tr th:only-of-type {\n",
       "        vertical-align: middle;\n",
       "    }\n",
       "\n",
       "    .dataframe tbody tr th {\n",
       "        vertical-align: top;\n",
       "    }\n",
       "\n",
       "    .dataframe thead th {\n",
       "        text-align: right;\n",
       "    }\n",
       "</style>\n",
       "<table border=\"1\" class=\"dataframe\">\n",
       "  <thead>\n",
       "    <tr style=\"text-align: right;\">\n",
       "      <th></th>\n",
       "      <th>station_name</th>\n",
       "      <th>community_area</th>\n",
       "      <th>longitude</th>\n",
       "      <th>latitude</th>\n",
       "      <th>ID_PS</th>\n",
       "      <th>D_distances</th>\n",
       "      <th>d_distances</th>\n",
       "    </tr>\n",
       "  </thead>\n",
       "  <tbody>\n",
       "    <tr>\n",
       "      <th>0</th>\n",
       "      <td>3510 S Michigan Ave</td>\n",
       "      <td>DOUGLAS</td>\n",
       "      <td>-87.623395</td>\n",
       "      <td>41.830702</td>\n",
       "      <td>1</td>\n",
       "      <td>[2092.19, 2103.08, 1560.8, 1750.1, 1439.87, 13...</td>\n",
       "      <td>[0, 989.7, 1360.4, 1809.6, 1227.2, 2021.8, 161...</td>\n",
       "    </tr>\n",
       "    <tr>\n",
       "      <th>1</th>\n",
       "      <td>1160 N Larrabee St</td>\n",
       "      <td>NEAR NORTH SIDE</td>\n",
       "      <td>-87.643352</td>\n",
       "      <td>41.903242</td>\n",
       "      <td>2</td>\n",
       "      <td>[1217.56, 1283.21, 686.17, 930.23, 662.57, 467...</td>\n",
       "      <td>[989.7, 0, 487.2, 992.2, 1827.8, 1154.4, 1160....</td>\n",
       "    </tr>\n",
       "    <tr>\n",
       "      <th>2</th>\n",
       "      <td>850 W Addison St</td>\n",
       "      <td>LAKE VIEW</td>\n",
       "      <td>-87.651512</td>\n",
       "      <td>41.947400</td>\n",
       "      <td>3</td>\n",
       "      <td>[784.26, 885.85, 252.87, 540.93, 298.23, 106.0...</td>\n",
       "      <td>[1360.4, 487.2, 0, 615.9, 2216.9, 709.2, 1220....</td>\n",
       "    </tr>\n",
       "    <tr>\n",
       "      <th>3</th>\n",
       "      <td>5400 N Lincoln Ave</td>\n",
       "      <td>LINCOLN SQUARE</td>\n",
       "      <td>-87.692845</td>\n",
       "      <td>41.979550</td>\n",
       "      <td>4</td>\n",
       "      <td>[478.94, 346.67, 482.46, 132.04, 511.79, 642.4...</td>\n",
       "      <td>[1809.6, 992.2, 615.9, 0, 2637.8, 373.8, 1185....</td>\n",
       "    </tr>\n",
       "    <tr>\n",
       "      <th>4</th>\n",
       "      <td>1900 W Monterey Ave</td>\n",
       "      <td>MORGAN PARK</td>\n",
       "      <td>-87.668520</td>\n",
       "      <td>41.691435</td>\n",
       "      <td>5</td>\n",
       "      <td>[3025.14, 3036.02, 2493.75, 2683.05, 2372.81, ...</td>\n",
       "      <td>[1227.2, 1827.8, 2216.9, 2637.8, 0, 2951.4, 25...</td>\n",
       "    </tr>\n",
       "  </tbody>\n",
       "</table>\n",
       "</div>"
      ],
      "text/plain": [
       "          station_name   community_area  longitude   latitude  ID_PS  \\\n",
       "0  3510 S Michigan Ave          DOUGLAS -87.623395  41.830702      1   \n",
       "1   1160 N Larrabee St  NEAR NORTH SIDE -87.643352  41.903242      2   \n",
       "2     850 W Addison St        LAKE VIEW -87.651512  41.947400      3   \n",
       "3   5400 N Lincoln Ave   LINCOLN SQUARE -87.692845  41.979550      4   \n",
       "4  1900 W Monterey Ave      MORGAN PARK -87.668520  41.691435      5   \n",
       "\n",
       "                                         D_distances  \\\n",
       "0  [2092.19, 2103.08, 1560.8, 1750.1, 1439.87, 13...   \n",
       "1  [1217.56, 1283.21, 686.17, 930.23, 662.57, 467...   \n",
       "2  [784.26, 885.85, 252.87, 540.93, 298.23, 106.0...   \n",
       "3  [478.94, 346.67, 482.46, 132.04, 511.79, 642.4...   \n",
       "4  [3025.14, 3036.02, 2493.75, 2683.05, 2372.81, ...   \n",
       "\n",
       "                                         d_distances  \n",
       "0  [0, 989.7, 1360.4, 1809.6, 1227.2, 2021.8, 161...  \n",
       "1  [989.7, 0, 487.2, 992.2, 1827.8, 1154.4, 1160....  \n",
       "2  [1360.4, 487.2, 0, 615.9, 2216.9, 709.2, 1220....  \n",
       "3  [1809.6, 992.2, 615.9, 0, 2637.8, 373.8, 1185....  \n",
       "4  [1227.2, 1827.8, 2216.9, 2637.8, 0, 2951.4, 25...  "
      ]
     },
     "execution_count": 16,
     "metadata": {},
     "output_type": "execute_result"
    }
   ],
   "source": [
    "police_stations.head()"
   ]
  },
  {
   "cell_type": "code",
   "execution_count": 17,
   "id": "0bc6e064-a7f3-4f01-8cbb-517eab0d064a",
   "metadata": {},
   "outputs": [
    {
     "data": {
      "text/html": [
       "<div>\n",
       "<style scoped>\n",
       "    .dataframe tbody tr th:only-of-type {\n",
       "        vertical-align: middle;\n",
       "    }\n",
       "\n",
       "    .dataframe tbody tr th {\n",
       "        vertical-align: top;\n",
       "    }\n",
       "\n",
       "    .dataframe thead th {\n",
       "        text-align: right;\n",
       "    }\n",
       "</style>\n",
       "<table border=\"1\" class=\"dataframe\">\n",
       "  <thead>\n",
       "    <tr style=\"text-align: right;\">\n",
       "      <th></th>\n",
       "      <th>ID_CA</th>\n",
       "      <th>community_area</th>\n",
       "      <th>population</th>\n",
       "      <th>area</th>\n",
       "      <th>neighbours</th>\n",
       "      <th>criminality_index</th>\n",
       "    </tr>\n",
       "  </thead>\n",
       "  <tbody>\n",
       "    <tr>\n",
       "      <th>0</th>\n",
       "      <td>1</td>\n",
       "      <td>ROGERS PARK</td>\n",
       "      <td>55628</td>\n",
       "      <td>4.77</td>\n",
       "      <td>[1, 2, 77]</td>\n",
       "      <td>0.017029</td>\n",
       "    </tr>\n",
       "    <tr>\n",
       "      <th>1</th>\n",
       "      <td>2</td>\n",
       "      <td>WEST RIDGE</td>\n",
       "      <td>77122</td>\n",
       "      <td>9.14</td>\n",
       "      <td>[1, 2, 4, 13, 77]</td>\n",
       "      <td>0.016114</td>\n",
       "    </tr>\n",
       "    <tr>\n",
       "      <th>2</th>\n",
       "      <td>3</td>\n",
       "      <td>UPTOWN</td>\n",
       "      <td>57182</td>\n",
       "      <td>6.01</td>\n",
       "      <td>[3, 4, 5, 6, 77]</td>\n",
       "      <td>0.016228</td>\n",
       "    </tr>\n",
       "    <tr>\n",
       "      <th>3</th>\n",
       "      <td>4</td>\n",
       "      <td>LINCOLN SQUARE</td>\n",
       "      <td>40494</td>\n",
       "      <td>6.63</td>\n",
       "      <td>[2, 3, 4, 5, 6, 13, 14, 16, 77]</td>\n",
       "      <td>0.008787</td>\n",
       "    </tr>\n",
       "    <tr>\n",
       "      <th>4</th>\n",
       "      <td>5</td>\n",
       "      <td>NORTH CENTER</td>\n",
       "      <td>35114</td>\n",
       "      <td>5.31</td>\n",
       "      <td>[3, 4, 5, 6, 7, 14, 16, 21, 22]</td>\n",
       "      <td>0.005632</td>\n",
       "    </tr>\n",
       "  </tbody>\n",
       "</table>\n",
       "</div>"
      ],
      "text/plain": [
       "   ID_CA  community_area  population  area                       neighbours  \\\n",
       "0      1     ROGERS PARK       55628  4.77                       [1, 2, 77]   \n",
       "1      2      WEST RIDGE       77122  9.14                [1, 2, 4, 13, 77]   \n",
       "2      3          UPTOWN       57182  6.01                 [3, 4, 5, 6, 77]   \n",
       "3      4  LINCOLN SQUARE       40494  6.63  [2, 3, 4, 5, 6, 13, 14, 16, 77]   \n",
       "4      5    NORTH CENTER       35114  5.31  [3, 4, 5, 6, 7, 14, 16, 21, 22]   \n",
       "\n",
       "   criminality_index  \n",
       "0           0.017029  \n",
       "1           0.016114  \n",
       "2           0.016228  \n",
       "3           0.008787  \n",
       "4           0.005632  "
      ]
     },
     "execution_count": 17,
     "metadata": {},
     "output_type": "execute_result"
    }
   ],
   "source": [
    "community_areas.head()"
   ]
  },
  {
   "cell_type": "markdown",
   "id": "34b255d3",
   "metadata": {},
   "source": [
    "## Model 3"
   ]
  },
  {
   "cell_type": "markdown",
   "id": "926c48d4",
   "metadata": {},
   "source": [
    "**CONSTANTS**\n",
    "<br>\n",
    "$I$: Number of community areas = 77 <br>\n",
    "$J$: Number of police districts or police stations = 23 <br>\n",
    "$K$: Number of police areas = 5 <br><br>\n",
    "\n",
    "**DECISION VARIABLES**\n",
    "<br>\n",
    "$X_{i, j, k}$: 1 if police area _k_ coordinates police station _j_, which is patrolled by community area _i_, 0 otherwise; $X_{i, j, k} \\in \\{0,1\\}$; _i_ = 1..._I_; _j_ = 1..._J_; _k_ = 1..._K_ <br>\n",
    "$Y_{j, j', k}$: 1 if police station _j_ and _j'_ are coordinated by police area _k_, 0 otherwise; $Y_{j, j', k} \\in \\{0,1\\}$; _j_ = 1..._J_; _j'_ = 1..._J_; _k_ = 1..._K_ <br>\n",
    "\n",
    "**Derived variables**\n",
    "<br>\n",
    "$w_j$: Workload of police station _j_ $\\equiv w_j = \\sum_{i=1}^{I} \\sum_{k=1}^{K} X_{i, j, k} * C_i$; $w_{j} \\in \\mathbb{R}$; $w_j \\geq 0$; _j_ = 1..._J_ <br>\n",
    "$v_k$: Workload of police area _k_ $\\equiv v_k = \\sum_{i=1}^{I} \\sum_{j=1}^{J} X_{i, j, k} * C_i$; $v_{k} \\in \\mathbb{R}$; $v_k \\geq 0$; _k_ = 1..._K_ <br><br>\n",
    "\n",
    "\n",
    "**PARAMETERS**\n",
    "<br>\n",
    "$C_i$: Crime index in community area _i_; $C_i \\in \\mathbb{R}$; _i_=1..._I_ <br>\n",
    "$D_{i,j}$: Distance from police station _j_ to community area centroid _i_;  $D_{i, j} \\in \\mathbb{R}$; _i_ = 1..._I_; _j_ = 1..._J_ <br>\n",
    "$d_{j, j'}$: Distance from police station _j_ to police station _j'_; $d_{j, j'} \\in \\mathbb{R}$; _j_ = 1.._J_; _j'_ = 1.._J_ <br>\n",
    "$λ$: Parameter that weights the importance of distances within the cluster; $λ \\in \\mathbb{R}$; $λ \\geq 0$ <br>\n",
    "$T$: Maximum travel time for a police station to reach the centroid of a community area; $T \\in \\mathbb{R}$; $T \\geq 0$ <br>\n",
    "$t$: Maximum travel time between two police stations within the same police area; $t \\in \\mathbb{R}$; $t \\geq 0$ <br><br>\n",
    "\n",
    "\n",
    "**OBJECTIVE FUNCTION**: Minimizing the distance from police stations to community areas and between police stations within the same police area\n",
    "<br>\n",
    "min Z =  $\\sum_{i=1}^{I} \\sum_{j=1}^{J} \\sum_{k=1}^{K}X_{i,j,k}*D_{i,j}$ + λ $\\sum_{j=1}^{J} \\sum_{j'=1}^{J} \\sum_{k=1}^{K} Y_{j, j', k}* d_{j, j'}$ <br><br>\n",
    "\n",
    "\n",
    "**S.T.**:\n",
    "<br>\n",
    "\n",
    "**_Cardinality constraints_**\n",
    "<br>\n",
    "[Community areas] $\\sum_{j=1}^{J} \\sum_{k=1}^{K} X_{i, j, k} = 1$; _i_ = 1..._I_ ‎ ‎ # Each community area is patrolled by one police station <br> \n",
    "[Police stations] $\\sum_{i=1}^{I} \\sum_{k=1}^{K} X_{i, j, k} \\geq 1$; _j_ = 1..._J_ ‎ ‎ # Each police station patrols at least one community area <br>\n",
    "[Police areas] $\\sum_{i=1}^{I} \\sum_{j=1}^{J} X_{i, j, k} \\geq 1$; _k_ = 1..._K_ ‎ ‎ # Each police area coordinates at least one police station <br>\n",
    "\n",
    "**_Max number of X in charge of constraints_** \n",
    "<br>\n",
    "[Max CA at j]  $\\sum_{i=1}^{I}\\sum_{k=1}^{K} X_{i, j, k} \\leq 4$; _j_ = 1..._J_ ‎ ‎ # Each police station does NOT patrol more than 4 community areas <br>\n",
    "[Max PS at k]  $\\sum_{i=1}^{I}\\sum_{j=1}^{J} X_{i, j, k} \\leq 5$; _k_ = 1..._K_ ‎ ‎ # Each police area does NOT coordinate more than 5 police stations <br>\n",
    "\n",
    "**_Distance constraints_**\n",
    "<br>\n",
    "[CA i, PS j] $C_{i,j} * D_{i,j} \\leq T$; _i_ = 1..._I_; _j_ = 1..._J_ ‎ ‎ # Each police station only patrols a community area if it is not too far, at _T_ seconds distance maximum <br> \n",
    "[PS j, PA k] $Y_{j,j', k} * d_{j,j'} \\leq t $; _j_ = 1..._J_; _j'_ = 1..._J_, _k_ = 1.._K_ ‎ ‎ # Police area coordinates police stations that are not too far between them <br>\n",
    "\n",
    "**_Workload division constraints_**\n",
    "<br>\n",
    "[Job division at j] $ -0.015 \\leq w_j - \\frac{\\sum_{j=1}^{J}w_j}{J} \\leq 0.015$; _j_ = 1..._J_ ‎ ‎ # Balanced job division at police stations <br>\n",
    "[Job division at k] $ -0.015 \\leq v_k - \\frac{\\sum_{k=1}^{K}v_k}{K} \\leq 0.015$; _k_ = 1..._K_ ‎ ‎ # Balanced job division at police areas <br>\n",
    "[Job j] $ \\sum_{i \\in {5, 41, 47, 49, 65, 75}} \\sum_{k=1}^{K} X_{i,j,k} \\leq 1$; _j_ = 1..._J_ ‎ ‎ # Each police station can patrol only one community area with a high crime index <br>\n",
    "\n",
    "**_Linking constraints:_**\n",
    "<br>\n",
    "[Linking] $\\sum_{i=1}^{I} (X_{i, j, k} + X_{i, j', k}) - Y_{j, j', k} \\leq 1 $; _j_ = 1..._J_; _j'_ = 1..._J_; _k_ = 1..._K_"
   ]
  },
  {
   "cell_type": "markdown",
   "id": "15844b1a",
   "metadata": {},
   "source": [
    "## Code"
   ]
  },
  {
   "cell_type": "code",
   "execution_count": 4,
   "id": "2949104a-a5d9-414e-959a-5b80daacf69d",
   "metadata": {},
   "outputs": [],
   "source": [
    "from ortools.linear_solver import pywraplp"
   ]
  },
  {
   "cell_type": "markdown",
   "id": "124569a0",
   "metadata": {},
   "source": [
    "### Solver"
   ]
  },
  {
   "cell_type": "code",
   "execution_count": 5,
   "id": "3db6635d",
   "metadata": {},
   "outputs": [
    {
     "data": {
      "text/plain": [
       "'\\n* Si todas las variables son binarias --> BOP\\n* Con las que NO hacer experimentos es con GLOP ni CLP al ser solver de programación lineal que asumen que todas son continuas\\n* Podemos probar solver comerciales que suelen ir más rápido\\n\\n'"
      ]
     },
     "execution_count": 5,
     "metadata": {},
     "output_type": "execute_result"
    }
   ],
   "source": [
    "solver = pywraplp.Solver.CreateSolver(\"BOP\") ## SCIP not sure\n",
    "\n",
    "\"\"\"\n",
    "* Si todas las variables son binarias --> BOP\n",
    "* Con las que NO hacer experimentos es con GLOP ni CLP al ser solver de programación lineal que asumen que todas son continuas\n",
    "* Podemos probar solver comerciales que suelen ir más rápido\n",
    "\n",
    "\"\"\""
   ]
  },
  {
   "cell_type": "markdown",
   "id": "73506049",
   "metadata": {},
   "source": [
    "### Constants\n",
    "$I$: Number of community areas = 77 <br>\n",
    "$J$: Number of police districts or police stations = 23 <br>\n",
    "$K$: Number of police areas = 5"
   ]
  },
  {
   "cell_type": "code",
   "execution_count": 6,
   "id": "4cf2842a",
   "metadata": {},
   "outputs": [],
   "source": [
    "I, J, K = 77, 23, 5"
   ]
  },
  {
   "cell_type": "markdown",
   "id": "948bfd10",
   "metadata": {},
   "source": [
    "### Decision variables\n",
    "$X_{i, j, k}$: 1 if police area _k_ coordinates police station _j_, which patrols community area _i_, 0 otherwise; $X_{i, j, k} \\in \\{0,1\\}$; _i_ = 1..._I_; _j_ = 1..._J_; _k_ = 1..._K_ <br>\n",
    "$Y_{j, j', k}$: 1 if police station _j_ and _j'_ are coordinated by police area _k_, 0 otherwise; $Y_{j, j', k} \\in \\{0,1\\}$; _j_ = 1..._J_; _j'_ = 1..._J_; _k_ = 1..._K_ \n",
    "#### Derived variables\n",
    "$w_j$: Workload of police station _j_ $\\equiv w_j = \\sum_{i=1}^{I} \\sum_{k=1}^{K} X_{i, j, k} * C_i$; $w_{j} \\in \\mathbb{R}$; $w_j \\geq 0$; _j_ = 1..._J_ <br>\n",
    "$v_k$: Workload of police area _k_ $\\equiv v_k = \\sum_{i=1}^{I} \\sum_{j=1}^{J} X_{i, j, k} * C_i$; $v_{k} \\in \\mathbb{R}$; $v_k \\geq 0$; _k_ = 1..._K_"
   ]
  },
  {
   "cell_type": "code",
   "execution_count": 7,
   "id": "12e85ef3",
   "metadata": {},
   "outputs": [],
   "source": [
    "# Decision variables\n",
    "\n",
    "X = {}\n",
    "for i in range(I):\n",
    "    for j in range(J):\n",
    "        for k in range(K):\n",
    "            x = solver.BoolVar(f'Does Police area {k} coordinate Police station {j}, which is patrolled by Community area {i}?')\n",
    "            X[(i, j, k)] = x\n",
    "\n",
    "Y = {}\n",
    "for j in range(J):\n",
    "    for j_prime in range(J):\n",
    "        for k in range(K):\n",
    "            y = solver.BoolVar(f'Does police area {k} coordinate police station {j} and {j_prime}?')\n",
    "            Y[(j, j_prime, k)] = y\n",
    "            \n",
    "######### AITANA: Esto en vd creo que NO se pone, en plan lo puse en el modelo para luego no tener tanta fórmula en las constraints pero que no se debería poner\n",
    "            \n",
    "# w = {}\n",
    "# for j in range(J):\n",
    "#     workload_ps = 0\n",
    "#     for i in range(I):\n",
    "#         for k in range(K):\n",
    "#             C = community_areas['crime_index'][i] \n",
    "#             workload_ps += X[(i, j, k)] * C\n",
    "#     w[j] = workload_ps\n",
    "    \n",
    "# v = {}\n",
    "# for k in range(K):\n",
    "#     workload_pa = 0\n",
    "#     for i in range(I):\n",
    "#         for j in range(J):\n",
    "#             C = community_areas['crime_index'][i] \n",
    "#             workload_pa += X[(i, j, k)] * C\n",
    "#     v[k] = workload_pa"
   ]
  },
  {
   "cell_type": "markdown",
   "id": "ceed5d3f",
   "metadata": {},
   "source": [
    "### Objective function\n",
    "Minimizing the distance from police stations to community areas and between police stations within the same police area\n",
    "<br>\n",
    "min Z =  $\\sum_{i=1}^{I} \\sum_{j=1}^{J} \\sum_{k=1}^{K}X_{i,j,k}*D_{i, j}$ + λ $\\sum_{j=1}^{J} \\sum_{j'=1}^{J} \\sum_{k=1}^{K} Y_{j, j', k}* d_{j, j'}$ <br>"
   ]
  },
  {
   "cell_type": "code",
   "execution_count": 19,
   "id": "ca4cf5d4",
   "metadata": {},
   "outputs": [],
   "source": [
    "# Objective function\n",
    "\n",
    "objective = solver.Objective()\n",
    "objective.SetMinimization()\n",
    "\n",
    "for i in range(I):\n",
    "    for j in range(J):\n",
    "        for k in range(K):\n",
    "            x = X[(i, j, k)]\n",
    "            D = police_stations['D_distances'][j][i]\n",
    "            objective.SetCoefficient(x, D)\n",
    "\n",
    "\n",
    "######### AITANA: lambda es un valor completamente arbitario, hay que ir probando\n",
    "\n",
    "lbd = 0.5  ####\n",
    "\n",
    "for j in range(J):\n",
    "    for j_prime in range(J):\n",
    "        for k in range(K):\n",
    "            y = Y[(j, j_prime, k)]\n",
    "            d = police_stations['d_distances'][j][j_prime]\n",
    "            objective.SetCoefficient(y, lbd*d)  "
   ]
  },
  {
   "cell_type": "markdown",
   "id": "a7231dc0",
   "metadata": {},
   "source": [
    "### Constraints\n",
    "**_Cardinality constraints_**\n",
    "<br>\n",
    "[Community areas] $\\sum_{j=1}^{J} \\sum_{k=1}^{K} X_{i, j, k} = 1$; _i_ = 1..._I_ ‎ ‎ # Each community area is patrolled by one police station <br> \n",
    "[Police stations] $\\sum_{i=1}^{I} \\sum_{k=1}^{K} X_{i, j, k} \\geq 1$; _j_ = 1..._J_ ‎ ‎ # Each police station patrols at least one community area <br>\n",
    "[Police areas] $\\sum_{i=1}^{I} \\sum_{j=1}^{J} X_{i, j, k} \\geq 1$; _k_ = 1..._K_ ‎ ‎ # Each police area coordinates at least one police station <br>"
   ]
  },
  {
   "cell_type": "code",
   "execution_count": 20,
   "id": "d0343f7f",
   "metadata": {},
   "outputs": [],
   "source": [
    "ca_constraints = []\n",
    "for i in range(I):\n",
    "    constraint = solver.Constraint(1, 1)\n",
    "    for j in range(J):\n",
    "        for k in range(K):\n",
    "            x = X[(i, j, k)]\n",
    "            constraint.SetCoefficient(x, 1)\n",
    "    ca_constraints.append(constraint)\n",
    "    \n",
    "ps_constraints = []\n",
    "for j in range(J):\n",
    "    constraint = solver.Constraint(1, solver.infinity())\n",
    "    for i in range(I):\n",
    "        for k in range(K):\n",
    "            x = X[(i, j, k)]\n",
    "            constraint.SetCoefficient(x, 1)\n",
    "    ps_constraints.append(constraint)\n",
    "    \n",
    "pa_constraints = []\n",
    "for k in range(K):\n",
    "    constraint = solver.Constraint(1, solver.infinity())\n",
    "    for i in range(I):\n",
    "        for j in range(J):\n",
    "            x = X[(i, j, k)]\n",
    "            constraint.SetCoefficient(x, 1)\n",
    "    pa_constraints.append(constraint)"
   ]
  },
  {
   "cell_type": "markdown",
   "id": "c4bf33a5",
   "metadata": {},
   "source": [
    "**_Max number of X in charge of constraints_** \n",
    "<br>\n",
    "[Max CA at j]  $\\sum_{i=1}^{I} \\sum_{k=1}^{K} X_{i, j, k} \\leq 4$; _j_ = 1..._J_ ‎ ‎ # Each police station does NOT patrol more than 4 community areas <br>\n",
    "[Max PS at k]  $\\sum_{i=1}^{I} \\sum_{j=1}^{J} X_{i, j, k} \\leq 5$; _k_ = 1..._K_ ‎ ‎ # Each police area does NOT coordinate more than 5 police stations <br>"
   ]
  },
  {
   "cell_type": "code",
   "execution_count": 21,
   "id": "ba76e609",
   "metadata": {},
   "outputs": [],
   "source": [
    "max1_constraints = []\n",
    "for j in range(J):\n",
    "    constraint = solver.Constraint(-solver.infinity(), 4)\n",
    "    for i in range(I):\n",
    "        for k in range(K):\n",
    "            x = X[(i, j, k)]\n",
    "            constraint.SetCoefficient(x, 1)\n",
    "    max1_constraints.append(constraint)\n",
    "    \n",
    "max2_constraints = []\n",
    "for j in range(J):\n",
    "    constraint = solver.Constraint(-solver.infinity(), 5)\n",
    "    for i in range(I):\n",
    "        for k in range(K):\n",
    "            x = X[(i, j, k)]\n",
    "            constraint.SetCoefficient(x, 1)\n",
    "    max2_constraints.append(constraint)"
   ]
  },
  {
   "cell_type": "markdown",
   "id": "e352069b",
   "metadata": {},
   "source": [
    "**_Distance constraints_**\n",
    "<br>\n",
    "[CA i, PS j] $\\sum_{k=1}^{K} X_{i, j, k} * D_{i,j} \\leq T$; _i_ = 1..._I_; _j_ = 1..._J_ ‎ ‎ # Each police station only patrols a community area if it is not too far, at _T_ seconds distance maximum <br> \n",
    "[PS j, PA k] $Y_{j,j', k} * d_{j,j'} \\leq t $; _j_ = 1..._J_; _j'_ = 1..._J_, _k_ = 1.._K_ ‎ ‎ # Police area coordinates police stations that are not too far between them <br>"
   ]
  },
  {
   "cell_type": "code",
   "execution_count": 27,
   "id": "f88c21e7",
   "metadata": {},
   "outputs": [],
   "source": [
    "T = 1200\n",
    "t = 1200\n",
    "\n",
    "distance1_constraints = []\n",
    "for i in range(I): \n",
    "    for j in range(J):\n",
    "        constraint = solver.Constraint(T, solver.infinity())  ##### AITANA: ¿esto no sería al revés?\n",
    "        for k in range(K):\n",
    "            x = X[(i, j, k)]\n",
    "            D = police_stations['D_distances'][j][i]\n",
    "            constraint.SetCoefficient(x, D)\n",
    "        distance1_constraints.append(constraint)\n",
    "        \n",
    "distance2_constraints = []                                  ##### AITANA: esto igual lo cambiaría a sumatorio\n",
    "for j in range(J):\n",
    "    for j_prime in range(J):\n",
    "        for k in range(K):\n",
    "            constraint = solver.Constraint(t, solver.infinity())\n",
    "            y = Y[(j, j_prime, k)]\n",
    "            d = police_stations['d_distances'][j][j_prime]\n",
    "            constraint.SetCoefficient(y, d)\n",
    "            distance2_constraints.append(constraint)"
   ]
  },
  {
   "cell_type": "markdown",
   "id": "4156b75c",
   "metadata": {},
   "source": [
    "**_Workload division constraints_**\n",
    "<br>\n",
    "[Job division at j] $ -0.015 \\leq w_j - \\frac{\\sum_{j=1}^{J}w_j}{J} \\leq 0.015$; _j_ = 1..._J_ ‎ ‎ # Balanced job division at police stations <br>\n",
    "[Job division at k] $ -0.015 \\leq v_k - \\frac{\\sum_{k=1}^{K}v_k}{K} \\leq 0.015$; _k_ = 1..._K_ ‎ ‎ # Balanced job division at police areas <br>\n",
    "[Job j] $ \\sum_{i \\in {5, 41, 47, 49, 65, 75}} \\sum_{k=1}^{K} X_{i,j,k} \\leq 1$; _j_ = 1..._J_ ‎ ‎ # Each police station can patrol only one community area with a high crime index <br>"
   ]
  },
  {
   "cell_type": "code",
   "execution_count": 30,
   "id": "45741d31",
   "metadata": {},
   "outputs": [],
   "source": [
    "\"\"\"\n",
    "workload1_constraints = []\n",
    "for j in range(J):\n",
    "    constraint = solver.Constraint(-0.015, 0.015)\n",
    "    constraint.SetCoefficient(w[j], 1)\n",
    "    ## por completar\n",
    "    \n",
    "\n",
    "workload2_constraints = []\n",
    "for k in range(K):\n",
    "    constraint = solver.Constraint(-0.015, 0.015)  # aquí quizás cambiaría el rango, porque se trata de crime index de ps\n",
    "    ## por completar\n",
    "\"\"\"\n",
    "\n",
    "workload3_constraints = []\n",
    "for j in range(J):\n",
    "    constraint = solver.Constraint(-solver.infinity(), 1)\n",
    "    for i in [5, 41, 47, 49, 65, 75]:\n",
    "        for k in range(K):\n",
    "            x = X[(i, j, k)]\n",
    "            constraint.SetCoefficient(x, 1)\n",
    "    workload3_constraints.append(constraint)"
   ]
  },
  {
   "cell_type": "code",
   "execution_count": null,
   "id": "4982f533-641e-49fa-b987-e390090c0950",
   "metadata": {},
   "outputs": [],
   "source": [
    "######### AITANA: propuesta 0\n",
    "\n",
    "workload1_constraints = []\n",
    "for j in range(J):\n",
    "    # Restringir w[j] - 1/23 dentro del rango [-0.015, 0.015]\n",
    "    constraint = solver.Constraint(-0.015, 0.015)\n",
    "    constraint.SetCoefficient(w[j], 1)\n",
    "    constraint.SetOffset(-1 / 23)\n",
    "    workload1_constraints.append(contraint)\n",
    "    \n",
    "workload2_constraints = []\n",
    "for k in range(K):\n",
    "    # Restringir v[k] - 1/5 dentro del rango [-0.015, 0.015]\n",
    "    constraint = solver.Constraint(-0.015, 0.015)\n",
    "    constraint.SetCoefficient(v[k], 1)\n",
    "    constraint.SetOffset(-1 / 5)\n",
    "    workload2_constraints.append(contraint)\n",
    "\n",
    "\n"
   ]
  },
  {
   "cell_type": "code",
   "execution_count": 33,
   "id": "95b32ab5-f1cd-42a9-8970-a7dcc5b3cf4b",
   "metadata": {},
   "outputs": [
    {
     "ename": "SystemError",
     "evalue": "<built-in function Constraint_SetCoefficient> returned NULL without setting an exception",
     "output_type": "error",
     "traceback": [
      "\u001b[0;31m---------------------------------------------------------------------------\u001b[0m",
      "\u001b[0;31mSystemError\u001b[0m                               Traceback (most recent call last)",
      "Cell \u001b[0;32mIn[33], line 12\u001b[0m\n\u001b[1;32m     10\u001b[0m \u001b[38;5;66;03m# balance de carga w_j\u001b[39;00m\n\u001b[1;32m     11\u001b[0m constraint \u001b[38;5;241m=\u001b[39m solver\u001b[38;5;241m.\u001b[39mConstraint(\u001b[38;5;241m-\u001b[39m\u001b[38;5;241m0.015\u001b[39m, \u001b[38;5;241m0.015\u001b[39m)\n\u001b[0;32m---> 12\u001b[0m \u001b[43mconstraint\u001b[49m\u001b[38;5;241;43m.\u001b[39;49m\u001b[43mSetCoefficient\u001b[49m\u001b[43m(\u001b[49m\u001b[43mworkload_j\u001b[49m\u001b[43m,\u001b[49m\u001b[43m \u001b[49m\u001b[38;5;241;43m1\u001b[39;49m\u001b[43m)\u001b[49m  \u001b[38;5;66;03m# Coeficiente para w_j\u001b[39;00m\n\u001b[1;32m     13\u001b[0m constraint\u001b[38;5;241m.\u001b[39mSetCoefficient(\u001b[38;5;241m1\u001b[39m \u001b[38;5;241m/\u001b[39m \u001b[38;5;241m23\u001b[39m, \u001b[38;5;241m-\u001b[39m\u001b[38;5;241m1\u001b[39m)     \u001b[38;5;66;03m# Restar el promedio 1/23\u001b[39;00m\n\u001b[1;32m     14\u001b[0m workload1_constraints\u001b[38;5;241m.\u001b[39mappend(constraint)\n",
      "File \u001b[0;32m~/.config/jupyterlab-desktop/jlab_server/lib/python3.12/site-packages/ortools/linear_solver/pywraplp.py:787\u001b[0m, in \u001b[0;36mConstraint.SetCoefficient\u001b[0;34m(self, var, coeff)\u001b[0m\n\u001b[1;32m    780\u001b[0m \u001b[38;5;28;01mdef\u001b[39;00m \u001b[38;5;21mSetCoefficient\u001b[39m(\u001b[38;5;28mself\u001b[39m, var, coeff):\n\u001b[1;32m    781\u001b[0m \u001b[38;5;250m    \u001b[39m\u001b[38;5;124mr\u001b[39m\u001b[38;5;124;03m\"\"\"\u001b[39;00m\n\u001b[1;32m    782\u001b[0m \u001b[38;5;124;03m    Sets the coefficient of the variable on the constraint.\u001b[39;00m\n\u001b[1;32m    783\u001b[0m \n\u001b[1;32m    784\u001b[0m \u001b[38;5;124;03m    If the variable does not belong to the solver, the function just returns,\u001b[39;00m\n\u001b[1;32m    785\u001b[0m \u001b[38;5;124;03m    or crashes in non-opt mode.\u001b[39;00m\n\u001b[1;32m    786\u001b[0m \u001b[38;5;124;03m    \"\"\"\u001b[39;00m\n\u001b[0;32m--> 787\u001b[0m     \u001b[38;5;28;01mreturn\u001b[39;00m \u001b[43m_pywraplp\u001b[49m\u001b[38;5;241;43m.\u001b[39;49m\u001b[43mConstraint_SetCoefficient\u001b[49m\u001b[43m(\u001b[49m\u001b[38;5;28;43mself\u001b[39;49m\u001b[43m,\u001b[49m\u001b[43m \u001b[49m\u001b[43mvar\u001b[49m\u001b[43m,\u001b[49m\u001b[43m \u001b[49m\u001b[43mcoeff\u001b[49m\u001b[43m)\u001b[49m\n",
      "\u001b[0;31mSystemError\u001b[0m: <built-in function Constraint_SetCoefficient> returned NULL without setting an exception"
     ]
    }
   ],
   "source": [
    "######### AITANA: propuesta 1\n",
    "\n",
    "workload1_constraints = []\n",
    "for j in range(J):\n",
    "    # Definir w_j como suma ponderada de X\n",
    "    workload_j = solver.Sum(\n",
    "        solver.Sum(X[(i, j, k)] * community_areas['criminality_index'][i] for i in range(I))\n",
    "        for k in range(K))\n",
    "    \n",
    "    # balance de carga w_j\n",
    "    constraint = solver.Constraint(-0.015, 0.015)\n",
    "    constraint.SetCoefficient(workload_j, 1)  # Coeficiente para w_j\n",
    "    constraint.SetCoefficient(1 / 23, -1)     # Restar el promedio 1/23\n",
    "    workload1_constraints.append(constraint)\n",
    "\n",
    "workload2_constraints = []\n",
    "for k in range(K):\n",
    "    # Definir v_k como suma ponderada de X\n",
    "    workload_k = solver.Sum(\n",
    "        solver.Sum(X[(i, j, k)] * community_areas['criminality_index'][i] for i in range(I))\n",
    "        for j in range(J))\n",
    "    \n",
    "    # balance de carga v_k\n",
    "    constraint = solver.Constraint(-0.015, 0.015)\n",
    "    constraint.SetCoefficient(workload_k, 1)  # Coeficiente para v_k\n",
    "    constraint.SetCoefficient(1 / 5, -1)      # Restar el promedio 1/5\n",
    "    workload2_constraints.append(constraint)\n",
    "\n"
   ]
  },
  {
   "cell_type": "code",
   "execution_count": 35,
   "id": "57df512d-d8de-4a36-9a43-6a8e450d23ff",
   "metadata": {},
   "outputs": [
    {
     "ename": "SystemError",
     "evalue": "<built-in function Constraint_SetCoefficient> returned NULL without setting an exception",
     "output_type": "error",
     "traceback": [
      "\u001b[0;31m---------------------------------------------------------------------------\u001b[0m",
      "\u001b[0;31mSystemError\u001b[0m                               Traceback (most recent call last)",
      "Cell \u001b[0;32mIn[35], line 13\u001b[0m\n\u001b[1;32m     11\u001b[0m     \u001b[38;5;66;03m# Restringir w_j - 1/23 dentro del rango [-0.015, 0.015]\u001b[39;00m\n\u001b[1;32m     12\u001b[0m     constraint \u001b[38;5;241m=\u001b[39m solver\u001b[38;5;241m.\u001b[39mConstraint(\u001b[38;5;241m-\u001b[39m\u001b[38;5;241m0.015\u001b[39m, \u001b[38;5;241m0.015\u001b[39m)\n\u001b[0;32m---> 13\u001b[0m     \u001b[43mconstraint\u001b[49m\u001b[38;5;241;43m.\u001b[39;49m\u001b[43mSetCoefficient\u001b[49m\u001b[43m(\u001b[49m\u001b[43mworkload_j\u001b[49m\u001b[43m,\u001b[49m\u001b[43m \u001b[49m\u001b[38;5;241;43m1\u001b[39;49m\u001b[43m)\u001b[49m\n\u001b[1;32m     14\u001b[0m     constraint\u001b[38;5;241m.\u001b[39mSetOffset(\u001b[38;5;241m-\u001b[39m\u001b[38;5;241m1\u001b[39m \u001b[38;5;241m/\u001b[39m \u001b[38;5;241m23\u001b[39m)\n\u001b[1;32m     16\u001b[0m \u001b[38;5;28;01mfor\u001b[39;00m k \u001b[38;5;129;01min\u001b[39;00m \u001b[38;5;28mrange\u001b[39m(K):\n\u001b[1;32m     17\u001b[0m     \u001b[38;5;66;03m# Calcular v_k como suma ponderada de las áreas coordinadas por el área policial k\u001b[39;00m\n",
      "File \u001b[0;32m~/.config/jupyterlab-desktop/jlab_server/lib/python3.12/site-packages/ortools/linear_solver/pywraplp.py:787\u001b[0m, in \u001b[0;36mConstraint.SetCoefficient\u001b[0;34m(self, var, coeff)\u001b[0m\n\u001b[1;32m    780\u001b[0m \u001b[38;5;28;01mdef\u001b[39;00m \u001b[38;5;21mSetCoefficient\u001b[39m(\u001b[38;5;28mself\u001b[39m, var, coeff):\n\u001b[1;32m    781\u001b[0m \u001b[38;5;250m    \u001b[39m\u001b[38;5;124mr\u001b[39m\u001b[38;5;124;03m\"\"\"\u001b[39;00m\n\u001b[1;32m    782\u001b[0m \u001b[38;5;124;03m    Sets the coefficient of the variable on the constraint.\u001b[39;00m\n\u001b[1;32m    783\u001b[0m \n\u001b[1;32m    784\u001b[0m \u001b[38;5;124;03m    If the variable does not belong to the solver, the function just returns,\u001b[39;00m\n\u001b[1;32m    785\u001b[0m \u001b[38;5;124;03m    or crashes in non-opt mode.\u001b[39;00m\n\u001b[1;32m    786\u001b[0m \u001b[38;5;124;03m    \"\"\"\u001b[39;00m\n\u001b[0;32m--> 787\u001b[0m     \u001b[38;5;28;01mreturn\u001b[39;00m \u001b[43m_pywraplp\u001b[49m\u001b[38;5;241;43m.\u001b[39;49m\u001b[43mConstraint_SetCoefficient\u001b[49m\u001b[43m(\u001b[49m\u001b[38;5;28;43mself\u001b[39;49m\u001b[43m,\u001b[49m\u001b[43m \u001b[49m\u001b[43mvar\u001b[49m\u001b[43m,\u001b[49m\u001b[43m \u001b[49m\u001b[43mcoeff\u001b[49m\u001b[43m)\u001b[49m\n",
      "\u001b[0;31mSystemError\u001b[0m: <built-in function Constraint_SetCoefficient> returned NULL without setting an exception"
     ]
    }
   ],
   "source": [
    "######### AITANA: propuesta 2\n",
    "\n",
    "\n",
    "for j in range(J):\n",
    "    # Calcular w_j como suma ponderada de las áreas que patrulla la estación j\n",
    "    workload_j = solver.Sum(\n",
    "        solver.Sum(X[(i, j, k)] * community_areas['criminality_index'][i] for i in range(I))\n",
    "        for k in range(K)\n",
    "    )\n",
    "    \n",
    "    # Restringir w_j - 1/23 dentro del rango [-0.015, 0.015]\n",
    "    constraint = solver.Constraint(-0.015, 0.015)\n",
    "    constraint.SetCoefficient(workload_j, 1)\n",
    "    constraint.SetOffset(-1 / 23)\n",
    "\n",
    "for k in range(K):\n",
    "    # Calcular v_k como suma ponderada de las áreas coordinadas por el área policial k\n",
    "    workload_k = solver.Sum(\n",
    "        solver.Sum(X[(i, j, k)] * community_areas['criminality_index'][i] for i in range(I))\n",
    "        for j in range(J)\n",
    "    )\n",
    "    \n",
    "    # Restringir v_k - 1/5 dentro del rango [-0.015, 0.015]\n",
    "    constraint = solver.Constraint(-0.015, 0.015)\n",
    "    constraint.SetCoefficient(workload_k, 1)\n",
    "    constraint.SetOffset(-1 / 5)\n",
    "\n"
   ]
  },
  {
   "attachments": {
    "4fad5248-8458-43a6-aadb-41b35fb2d74a.png": {
     "image/png": "[encoded data removed]"
    }
   },
   "cell_type": "markdown",
   "id": "ba02ef14-84e3-40f3-8338-bdc74d1cdd9f",
   "metadata": {},
   "source": [
    "![image.png](attachment:4fad5248-8458-43a6-aadb-41b35fb2d74a.png)"
   ]
  },
  {
   "cell_type": "code",
   "execution_count": 38,
   "id": "cdf1bd23-ea85-444a-aeaa-67a26721ade9",
   "metadata": {},
   "outputs": [],
   "source": [
    "# Restricciones para w_j - 1/23\n",
    "for j in range(J):\n",
    "    # Calcular nuevos límites ajustados\n",
    "    lower_bound = -0.015 + (1 / 23)\n",
    "    upper_bound = 0.015 + (1 / 23)\n",
    "    \n",
    "    # Crear la restricción con límites ajustados\n",
    "    constraint = solver.Constraint(lower_bound, upper_bound)\n",
    "    \n",
    "    # Sumar las contribuciones de las áreas comunitarias coordinadas\n",
    "    for i in range(I):\n",
    "        for k in range(K):\n",
    "            C = community_areas['criminality_index'][i]\n",
    "            x = X[(i, j, k)]\n",
    "            constraint.SetCoefficient(x, C)  # Agregar el peso de la carga de trabajo\n",
    "\n",
    "# Restricciones para v_k - 1/5\n",
    "for k in range(K):\n",
    "    # Calcular nuevos límites ajustados\n",
    "    lower_bound = -0.015 + (1 / 5)\n",
    "    upper_bound = 0.015 + (1 / 5)\n",
    "    \n",
    "    # Crear la restricción con límites ajustados\n",
    "    constraint = solver.Constraint(lower_bound, upper_bound)\n",
    "    \n",
    "    # Sumar las contribuciones de las áreas comunitarias coordinadas\n",
    "    for i in range(I):\n",
    "        for j in range(J):\n",
    "            C = community_areas['criminality_index'][i]\n",
    "            x = X[(i, j, k)]\n",
    "            constraint.SetCoefficient(x, C)  # Agregar el peso de la carga de trabajo\n"
   ]
  },
  {
   "cell_type": "markdown",
   "id": "0d33feac",
   "metadata": {},
   "source": [
    "**_Linking constraints:_**\n",
    "<br>\n",
    "[Linking] $\\sum_{i=1}^{I} (X_{i, j, k} + X_{i, j', k}) - Y_{j, j', k} \\leq 1 $; _j_ = 1..._J_; _j'_ = 1..._J_; _k_ = 1..._K_"
   ]
  },
  {
   "cell_type": "code",
   "execution_count": 39,
   "id": "cc7f2587",
   "metadata": {},
   "outputs": [],
   "source": [
    "linking_constraints = []\n",
    "for j in range(J):\n",
    "    for j_prime in range(J):\n",
    "        for k in range(K):\n",
    "            constraint = solver.Constraint(-solver.infinity(), 1)\n",
    "            y = Y[(j, j_prime, k)]\n",
    "            constraint.SetCoefficient(y, -1)\n",
    "            for i in range(I):\n",
    "                x = X[(i, j, k)]\n",
    "                x_prime = X[(i, j, k)]\n",
    "                constraint.SetCoefficient(x, 1)\n",
    "                constraint.SetCoefficient(x_prime, 1)\n",
    "linking_constraints.append(constraint)"
   ]
  },
  {
   "cell_type": "markdown",
   "id": "bef1074d-81f3-4158-9fac-669165e6ac7c",
   "metadata": {},
   "source": [
    "### Results"
   ]
  },
  {
   "cell_type": "code",
   "execution_count": 40,
   "id": "187ab205-c414-47f2-8a7c-a78bf057f497",
   "metadata": {},
   "outputs": [
    {
     "name": "stdout",
     "output_type": "stream",
     "text": [
      "There is no feasible solution for the problem\n"
     ]
    },
    {
     "name": "stderr",
     "output_type": "stream",
     "text": [
      "WARNING: All log messages before absl::InitializeLog() is called are written to STDERR\n",
      "W0000 00:00:1732541746.975279   19661 integral_solver.cc:655] A constraint is trivially unsatisfiable.\n",
      "I0000 00:00:1732541746.981746   19661 boolean_problem.cc:259] Problem detected to be UNSAT when adding the constraint #180 with name 'r180'\n"
     ]
    }
   ],
   "source": [
    "result = solver.Solve()\n",
    "if result == solver.ABNORMAL:\n",
    "    print(\"Execution finished by an error\")\n",
    "elif result == solver.FEASIBLE:\n",
    "    print(\"In the specified time limit the solver has found a feasible solution\")\n",
    "    for i in range(I):\n",
    "        for j in range(J):\n",
    "            for k in range(K):\n",
    "                x = X[(i, j, k)]\n",
    "        if x.SolutionValue()>0:\n",
    "            print(x, x.solution_value())\n",
    "\n",
    "    print(\"The value for the objective function is\", objective.Value())\n",
    "elif result == solver.INFEASIBLE:\n",
    "    print(\"There is no feasible solution for the problem\")\n",
    "elif result == solver.NOT_SOLVED:\n",
    "    print(\"In the specified time limit the solver has not found any feasible solution\")\n",
    "elif result == solver.OPTIMAL:\n",
    "    print(\"In the specified time limit the solver has found a feasible solution\")\n",
    "    for i in range(I):\n",
    "        for j in range(J):\n",
    "            for k in range(K):\n",
    "                x = X[(i, j, k)]\n",
    "        if x.SolutionValue()>0:\n",
    "            print(x, x.solution_value())\n",
    "    print(\"The optimal value for the objective function is\", objective.Value())\n",
    "elif result == solver.UNBOUNDED:\n",
    "    print(\"The solution is unbounded\")\n",
    "else:\n",
    "    print(\"Unknown error code\")"
   ]
  },
  {
   "cell_type": "code",
   "execution_count": null,
   "id": "7d0f9546-e4e6-468f-b90d-e46bcb7f1ef4",
   "metadata": {},
   "outputs": [],
   "source": []
  }
 ],
 "metadata": {
  "kernelspec": {
   "display_name": "Python 3 (ipykernel)",
   "language": "python",
   "name": "python3"
  },
  "language_info": {
   "codemirror_mode": {
    "name": "ipython",
    "version": 3
   },
   "file_extension": ".py",
   "mimetype": "text/x-python",
   "name": "python",
   "nbconvert_exporter": "python",
   "pygments_lexer": "ipython3",
   "version": "3.12.5"
  }
 },
 "nbformat": 4,
 "nbformat_minor": 5
}
